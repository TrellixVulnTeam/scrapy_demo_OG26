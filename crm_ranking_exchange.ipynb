{
 "cells": [
  {
   "cell_type": "code",
   "execution_count": null,
   "metadata": {
    "collapsed": true
   },
   "outputs": [],
   "source": [
    "import zeep\n",
    "import pandas as pd\n",
    "def getData(par_dict = {\"KSRQ\": \"2018-02-26\", \"JSRQ\": \"2018-02-26\", \"YYB\": \"1\", \"TJFL\": \"0\"},\n",
    "            lookout_str='cxSqlKHCJTJ_GPXZ'):\n",
    "    wsdl = 'http://10.21.2.75:8080/service/LBEBusiness?wsdl'\n",
    "    client = zeep.Client(wsdl=wsdl)\n",
    "    # ns0:loginResult(message: xsd:string, result: xsd:int, sessionId: xsd:string)\n",
    "    sessionId = client.service.login(\"ZXQH_GPXZ\", \"GPXZ123321\", \"myapp\", \"plain\", \"\")\n",
    "    print(client.service.login(\"ZXQH_GPXZ\", \"GPXZ123321\", \"myapp\", \"plain\", \"\"))\n",
    "    factory = client.type_factory('ns0')\n",
    "    string_type = client.get_type('xsd:string')\n",
    "    lbParameter_type = client.get_type('ns0:lbParameter')\n",
    "    queryOption_type = client.get_type('ns0:queryOption')\n",
    "    '''\t\ttmap.put(\"KSRQ\", \"2018-02-26\");\n",
    "    \t\ttmap.put(\"JSRQ\", \"2018-02-26\");\n",
    "    \t\ttmap.put(\"YYB\", \"1\");\n",
    "    \t\ttmap.put(\"TJFL\", \"0\");'''\n",
    "    # par_dict = {\"KSRQ\": \"2018-02-26\", \"JSRQ\": \"2018-02-26\", \"YYB\": \"1\", \"TJFL\": \"0\"}\n",
    "    params = []\n",
    "    for key in par_dict:\n",
    "        val = par_dict[key]\n",
    "        temp_lbParameter = lbParameter_type(name=key, value=val)\n",
    "        params.append(temp_lbParameter)\n",
    "\n",
    "    valueOption_type = client.get_type('ns0:valueOption')\n",
    "    valueOption = valueOption_type('VALUE')\n",
    "    batchNo = 1\n",
    "    batchSize = 100\n",
    "    ans_records = []\n",
    "    mqueryOption = queryOption_type(batchNo=batchNo, batchSize=batchSize, queryCount=True, valueOption=valueOption)\n",
    "\n",
    "    ans = client.service.query(sessionId.sessionId, lookout_str, params, \"\", mqueryOption)\n",
    "    ans_records.extend(ans.records)\n",
    "    temp_meta = ans.metaData.colInfo\n",
    "    print(temp_meta)\n",
    "    ans_meta = [it['label'] for it in temp_meta]\n",
    "    print(ans_meta)\n",
    "    print(ans)\n",
    "    while ((ans.result > 0) & ans.hasMore):\n",
    "        batchNo += 1\n",
    "        print('batchNo:{batchNo}'.format(batchNo=batchNo))\n",
    "\n",
    "        mqueryOption = queryOption_type(batchNo=batchNo, batchSize=batchSize, queryCount=True, valueOption=valueOption)\n",
    "        ans = client.service.query(sessionId.sessionId, lookout_str, params, \"\", mqueryOption)\n",
    "\n",
    "        ans_records.extend(ans.records)\n",
    "        # print(ans)\n",
    "        print('batchNo:{batchNo}'.format(batchNo=batchNo))\n",
    "\n",
    "    print(client.service.logout(sessionId.sessionId))\n",
    "    return ans_records, ans_meta"
   ]
  },
  {
   "cell_type": "code",
   "execution_count": 2,
   "metadata": {},
   "outputs": [
    {
     "name": "stdout",
     "output_type": "stream",
     "text": [
      "{\n    'message': '成功',\n    'result': 1,\n    'sessionId': '77012d1adcd8b79b53455206bfd96200'\n}\n"
     ]
    },
    {
     "name": "stdout",
     "output_type": "stream",
     "text": [
      "[{\n    'label': '客户号',\n    'length': 16,\n    'name': '_CF_1',\n    'scale': 0,\n    'type': 0\n}, {\n    'label': '客户姓名',\n    'length': 100,\n    'name': '_CF_2',\n    'scale': 0,\n    'type': 0\n}, {\n    'label': '交易所',\n    'length': 4,\n    'name': '_CF_3',\n    'scale': 0,\n    'type': 0\n}, {\n    'label': '成交量',\n    'length': 18,\n    'name': '_CF_4',\n    'scale': 2,\n    'type': 1\n}, {\n    'label': '成交金额',\n    'length': 18,\n    'name': '_CF_5',\n    'scale': 2,\n    'type': 1\n}, {\n    'label': '排名',\n    'length': 18,\n    'name': '_CF_6',\n    'scale': 2,\n    'type': 1\n}]\n['客户号', '客户姓名', '交易所', '成交量', '成交金额', '排名']\n{\n    'message': '成功',\n    'result': 1,\n    'count': 20,\n    'hasMore': False,\n    'metaData': {\n        'colInfo': [\n            {\n                'label': '客户号',\n                'length': 16,\n                'name': '_CF_1',\n                'scale': 0,\n                'type': 0\n            },\n            {\n                'label': '客户姓名',\n                'length': 100,\n                'name': '_CF_2',\n                'scale': 0,\n                'type': 0\n            },\n            {\n                'label': '交易所',\n                'length': 4,\n                'name': '_CF_3',\n                'scale': 0,\n                'type': 0\n            },\n            {\n                'label': '成交量',\n                'length': 18,\n                'name': '_CF_4',\n                'scale': 2,\n                'type': 1\n            },\n            {\n                'label': '成交金额',\n                'length': 18,\n                'name': '_CF_5',\n                'scale': 2,\n                'type': 1\n            },\n            {\n                'label': '排名',\n                'length': 18,\n                'name': '_CF_6',\n                'scale': 2,\n                'type': 1\n            }\n        ],\n        'columnCount': 6\n    },\n    'queryId': None,\n    'records': [\n        {\n            'size': 6,\n            'values': [\n                '102802588',\n                '张西正',\n                '大商所',\n                '39680',\n                '2166858285',\n                '1'\n            ]\n        },\n        {\n            'size': 6,\n            'values': [\n                '102802589',\n                '康少华',\n                '大商所',\n                '39312',\n                '1905638250',\n                '2'\n            ]\n        },\n        {\n            'size': 6,\n            'values': [\n                '100301563',\n                '陈晓',\n                '大商所',\n                '11643',\n                '580362985',\n                '3'\n            ]\n        },\n        {\n            'size': 6,\n            'values': [\n                '106100199',\n                '凯丰9号',\n                '大商所',\n                '11310',\n                '463305760',\n                '4'\n            ]\n        },\n        {\n            'size': 6,\n            'values': [\n                '100109999',\n                '做市商-中信中证资本',\n                '大商所',\n                '6458',\n                '27012585',\n                '5'\n            ]\n        },\n        {\n            'size': 6,\n            'values': [\n                '100109798',\n                '昌都资管1号私募基金',\n                '大商所',\n                '6240',\n                '255636980',\n                '6'\n            ]\n        },\n        {\n            'size': 6,\n            'values': [\n                '120351267',\n                '孙敬',\n                '大商所',\n                '4116',\n                '191030790',\n                '7'\n            ]\n        },\n        {\n            'size': 6,\n            'values': [\n                '105500062',\n                '秦文彬',\n                '大商所',\n                '4080',\n                '134455225',\n                '8'\n            ]\n        },\n        {\n            'size': 6,\n            'values': [\n                '102801366',\n                '高芳',\n                '大商所',\n                '3800',\n                '149221410',\n                '9'\n            ]\n        },\n        {\n            'size': 6,\n            'values': [\n                '102801772',\n                '九坤量化进取配置二号私募基金',\n                '大商所',\n                '3668',\n                '208752380',\n                '10'\n            ]\n        },\n        {\n            'size': 6,\n            'values': [\n                '102801787',\n                '崔万平',\n                '大商所',\n                '3530',\n                '190421450',\n                '11'\n            ]\n        },\n        {\n            'size': 6,\n            'values': [\n                '102802376',\n                '冯玉红',\n                '大商所',\n                '2792',\n                '151116700',\n                '12'\n            ]\n        },\n        {\n            'size': 6,\n            'values': [\n                '120301807',\n                '九坤策略精选A期',\n                '大商所',\n                '2760',\n                '156170530',\n                '13'\n            ]\n        },\n        {\n            'size': 6,\n            'values': [\n                '100101660',\n                '中信中证资本',\n                '大商所',\n                '2492',\n                '91539700',\n                '14'\n            ]\n        },\n        {\n            'size': 6,\n            'values': [\n                '100350030',\n                '李姗姗',\n                '大商所',\n                '2260',\n                '177669690',\n                '15'\n            ]\n        },\n        {\n            'size': 6,\n            'values': [\n                '120350673',\n                '陈其',\n                '大商所',\n                '2200',\n                '103152500',\n                '16'\n            ]\n        },\n        {\n            'size': 6,\n            'values': [\n                '120351855',\n                '范玲',\n                '大商所',\n                '2160',\n                '114988250',\n                '17'\n            ]\n        },\n        {\n            'size': 6,\n            'values': [\n                '103650058',\n                '王舰',\n                '大商所',\n                '2000',\n                '59117000',\n                '18'\n            ]\n        },\n        {\n            'size': 6,\n            'values': [\n                '108805019',\n                '张宁',\n                '大商所',\n                '2000',\n                '108150000',\n                '18'\n            ]\n        },\n        {\n            'size': 6,\n            'values': [\n                '100300999',\n                '明发国际',\n                '大商所',\n                '1800',\n                '52825980',\n                '20'\n            ]\n        }\n    ]\n}\n{\n    'message': '成功',\n    'result': 1\n}\n[['102802588', '张西正', '大商所', '39680', '2166858285', '1'], ['102802589', '康少华', '大商所', '39312', '1905638250', '2'], ['100301563', '陈晓', '大商所', '11643', '580362985', '3'], ['106100199', '凯丰9号', '大商所', '11310', '463305760', '4'], ['100109999', '做市商-中信中证资本', '大商所', '6458', '27012585', '5'], ['100109798', '昌都资管1号私募基金', '大商所', '6240', '255636980', '6'], ['120351267', '孙敬', '大商所', '4116', '191030790', '7'], ['105500062', '秦文彬', '大商所', '4080', '134455225', '8'], ['102801366', '高芳', '大商所', '3800', '149221410', '9'], ['102801772', '九坤量化进取配置二号私募基金', '大商所', '3668', '208752380', '10'], ['102801787', '崔万平', '大商所', '3530', '190421450', '11'], ['102802376', '冯玉红', '大商所', '2792', '151116700', '12'], ['120301807', '九坤策略精选A期', '大商所', '2760', '156170530', '13'], ['100101660', '中信中证资本', '大商所', '2492', '91539700', '14'], ['100350030', '李姗姗', '大商所', '2260', '177669690', '15'], ['120350673', '陈其', '大商所', '2200', '103152500', '16'], ['120351855', '范玲', '大商所', '2160', '114988250', '17'], ['103650058', '王舰', '大商所', '2000', '59117000', '18'], ['108805019', '张宁', '大商所', '2000', '108150000', '18'], ['100300999', '明发国际', '大商所', '1800', '52825980', '20']]\n**正\n**华\n**晓\n**号\n**本\n**金\n**敬\n**彬\n**芳\n**金\n**平\n**红\n**期\n**本\n**姗\n**其\n**玲\n**舰\n**宁\n**际\n0     **正\n1     **华\n2     **晓\n3     **号\n4     **本\n5     **金\n6     **敬\n7     **彬\n8     **芳\n9     **金\n10    **平\n11    **红\n12    **期\n13    **本\n14    **姗\n15    **其\n16    **玲\n17    **舰\n18    **宁\n19    **际\nName: 客户姓名, dtype: object\n0     **正\n1     **华\n2     **晓\n3     **号\n4     **本\n5     **金\n6     **敬\n7     **彬\n8     **芳\n9     **金\n10    **平\n11    **红\n12    **期\n13    **本\n14    **姗\n15    **其\n16    **玲\n17    **舰\n18    **宁\n19    **际\nName: 客户姓名, dtype: object\n"
     ]
    }
   ],
   "source": [
    "par_dict = {\"KSRQ\": \"2018-02-23\", \"JSRQ\": \"2018-02-23\", 'TJLX': '2', 'ZB': '0', 'JYS': '1',\n",
    "            'PM': '20'}\n",
    "# 一．客户成交统计排名（CXSqlKHCJTJPM_GPXZ）\n",
    "lookout_str = 'CXSqlKHCJTJPM_GPXZ'\n",
    "\n",
    "records, meta = getData(par_dict, lookout_str)\n",
    "clean_records = []\n",
    "for a_record in records:\n",
    "    clean_records.append(a_record.values)\n",
    "# df = pd.DataFrame(data)\n",
    "print(clean_records)\n",
    "tab_cols = meta\n",
    "# tab_cols = ['客户号', '客户姓名', '成交量', '成交金额', '排名', ]\n",
    "df = pd.DataFrame(clean_records, columns=tab_cols)\n",
    "repl = lambda m: m[-1:]\n",
    "for x in df['客户姓名']:\n",
    "    print(\"**\" + x[-1:])\n",
    "df['客户姓名'] = [\"**\" + x[-1:] for x in df['客户姓名']]\n",
    "\n",
    "print(df['客户姓名'])\n",
    "df['客户姓名'].str.replace(r'[W]+', repl=repl)\n",
    "print(df['客户姓名'])\n",
    "   "
   ]
  },
  {
   "cell_type": "code",
   "execution_count": 12,
   "metadata": {
    "collapsed": true
   },
   "outputs": [
    {
     "name": "stdout",
     "output_type": "stream",
     "text": [
      "Index(['客户姓名', '交易所', '成交量', '成交金额', '排名'], dtype='object')\n[['**正', '大商所', '39680', '2166858285', '1'], ['**华', '大商所', '39312', '1905638250', '2'], ['**晓', '大商所', '11643', '580362985', '3'], ['**号', '大商所', '11310', '463305760', '4'], ['**本', '大商所', '6458', '27012585', '5'], ['**金', '大商所', '6240', '255636980', '6'], ['**敬', '大商所', '4116', '191030790', '7'], ['**彬', '大商所', '4080', '134455225', '8'], ['**芳', '大商所', '3800', '149221410', '9'], ['**金', '大商所', '3668', '208752380', '10'], ['**平', '大商所', '3530', '190421450', '11'], ['**红', '大商所', '2792', '151116700', '12'], ['**期', '大商所', '2760', '156170530', '13'], ['**本', '大商所', '2492', '91539700', '14'], ['**姗', '大商所', '2260', '177669690', '15'], ['**其', '大商所', '2200', '103152500', '16'], ['**玲', '大商所', '2160', '114988250', '17'], ['**舰', '大商所', '2000', '59117000', '18'], ['**宁', '大商所', '2000', '108150000', '18'], ['**际', '大商所', '1800', '52825980', '20']]\n"
     ]
    }
   ],
   "source": [
    "\n",
    "import pandas as pd\n",
    "writer = pd.ExcelWriter('期货统计排名_交易所.xlsx', engine='xlsxwriter')\n",
    "# tab_cols = ['排名', '客户姓名','成交量','成交金额',]\n",
    "# df['客户姓名'] = [\"**\" + x[-1:] for x in df['客户姓名']]\n",
    "print(df.columns)\n",
    "# df = df.drop(['客户号',], axis=1)\n",
    "\n",
    "\n",
    "v = df.values.tolist()\n",
    "print(v)\n",
    "# row = 1\n",
    "# col = 0\n",
    "\n",
    "# Iterate over the data and write it out row by row.\n",
    "# for item, cost in (expenses):\n",
    "#     worksheet.write(row, col,     item)\n",
    "#     worksheet.write(row, col + 1, cost, money)\n",
    "#     row += 1\n",
    "     \n",
    "     \n",
    "workbook  = writer.book\n",
    "\n",
    "\n",
    "# Add a header format.\n",
    "header_format = workbook.add_format({\n",
    "    'bold': True,\n",
    "    'text_wrap': False,\n",
    "   \n",
    "    \n",
    "    'border': 1})\n",
    "header_format.set_align('center')\n",
    "header_format.set_align('vcenter')\n",
    "header_format.set_border(1)\n",
    "header_format.set_font_size(12)\n",
    "\n",
    "cell_format = workbook.add_format({\n",
    "    'bold': False,\n",
    "    'text_wrap': False,\n",
    "    \n",
    "   \n",
    "    'border': 1})\n",
    "\n",
    "# cell_format.set_align()\n",
    "cell_format.set_align('center')\n",
    "cell_format.set_align('vcenter')\n",
    "cell_format.set_border(1)\n",
    "\n",
    "# Write the column headers with the defined format.\n",
    "# for col_num, value in enumerate(df.columns.values):\n",
    "#     worksheet.write(1, col_num, value, header_format)\n",
    "\n",
    "# workbook.add_sheet(\"won't work\")\n",
    "worksheet2 = workbook.add_worksheet(\"期货排名2\")\n",
    "# worksheet2 = writer.sheets['期货排名2']\n",
    "for index, row in df.iterrows():   # 获取每行的index、row\n",
    "    for col_index, cell in enumerate(row):\n",
    "        worksheet2.write(index+2, col_index, cell, cell_format)\n",
    "for col_num, value in enumerate(df.columns.values):\n",
    "    worksheet2.write(1, col_num, value, header_format)  \n",
    "worksheet2.merge_range('A1:E1', '期货统计排名， 按所有品种交易量统计排名', header_format)\n",
    "# Code to make the header red\n",
    "colour_format = workbook.add_format()\n",
    "colour_format.set_bg_color('#640000')\n",
    "colour_format.set_font_color('white')\n",
    "\n",
    "# Code to make the body blue    \n",
    "table_body_format = workbook.add_format()\n",
    "table_body_format.set_bg_color('blue')\n",
    "\n",
    "# worksheet.set_row(0, 15, colour_format)\n",
    "worksheet2.set_column('A:Z', 15, ) \n",
    "worksheet2.set_row(0, 30)\n",
    "# font_fmt = workbook.add_format({'font_name': 'Arial', 'font_size': 10})\n",
    "# header_fmt = workbook.add_format({'font_name': 'Arial', 'font_size': 10, 'bold': True})\n",
    "\n",
    "# worksheet.set_column('A:A', None, font_fmt)\n",
    "# worksheet.set_row(0, None, header_fmt)\n",
    "\n",
    "\n",
    "# worksheet.merge_range('A1:D1', '期货统计排名， 按所有品种交易量统计排名', header_format)\n",
    "writer.save()"
   ]
  },
  {
   "cell_type": "code",
   "execution_count": 13,
   "metadata": {},
   "outputs": [],
   "source": [
    "# XLSXtoPDF.py\n",
    "\n",
    "# Program to convert the data from an XLSX file to PDF.\n",
    "# Uses the openpyxl library and xtopdf.\n",
    "\n",
    "# Author: Vasudev Ram - http://jugad2.blogspot.com\n",
    "# Copyright 2015 Vasudev Ram.\n",
    "\n",
    "# from openpyxl import load_workbook\n",
    "# from PDFWriter import PDFWriter\n",
    "# \n",
    "# workbook = load_workbook('fruits2.xlsx', guess_types=True, data_only=True)\n",
    "# worksheet = workbook.active\n",
    "# \n",
    "# pw = PDFWriter('fruits2.pdf')\n",
    "# pw.setFont('Courier', 12)\n",
    "# pw.setHeader('XLSXtoPDF.py - convert XLSX data to PDF')\n",
    "# pw.setFooter('Generated using openpyxl and xtopdf')\n",
    "# \n",
    "# ws_range = worksheet.iter_rows('A1:H13')\n",
    "# for row in ws_range:\n",
    "#     s = ''\n",
    "#     for cell in row:\n",
    "#         if cell.value is None:\n",
    "#             s += ' ' * 11\n",
    "#         else:\n",
    "#             s += str(cell.value).rjust(10) + ' '\n",
    "#     pw.writeLine(s)\n",
    "# pw.savePage()\n",
    "# pw.close()"
   ]
  },
  {
   "cell_type": "code",
   "execution_count": 15,
   "metadata": {},
   "outputs": [
    {
     "name": "stderr",
     "output_type": "stream",
     "text": [
      "C:\\Users\\niejn\\PycharmProjects\\scrapy_demo\\venv\\lib\\site-packages\\ipykernel_launcher.py:35: DeprecationWarning: \n.ix is deprecated. Please use\n.loc for label based indexing or\n.iloc for positional indexing\n\nSee the documentation here:\nhttp://pandas.pydata.org/pandas-docs/stable/indexing.html#ix-indexer-is-deprecated\nC:\\Users\\niejn\\PycharmProjects\\scrapy_demo\\venv\\lib\\site-packages\\ipykernel_launcher.py:36: DeprecationWarning: \n.ix is deprecated. Please use\n.loc for label based indexing or\n.iloc for positional indexing\n\nSee the documentation here:\nhttp://pandas.pydata.org/pandas-docs/stable/indexing.html#ix-indexer-is-deprecated\n"
     ]
    },
    {
     "data": {
      "text/plain": [
       "''"
      ]
     },
     "execution_count": 15,
     "metadata": {},
     "output_type": "execute_result"
    }
   ],
   "source": [
    "# from win32com import client\n",
    "# xlApp = client.Dispatch(\"Excel.Application\")\n",
    "# books = xlApp.Workbooks.Open('C:\\\\excel\\\\trial.xls')\n",
    "# ws = books.Worksheets[0]\n",
    "# ws.Visible = 1\n",
    "# ws.ExportAsFixedFormat(0, 'C:\\\\excel\\\\trial.pdf')\n",
    "import pandas as pd\n",
    "import numpy as np\n",
    "from fpdf import FPDF\n",
    "\n",
    "# Creating a dataframe and saving as test.xlsx in current directory\n",
    "df_1 = pd.DataFrame(np.random.randn(10, 2), columns=list('AB'))\n",
    "writer = pd.ExcelWriter('test.xlsx')\n",
    "df_1.to_excel(writer)\n",
    "writer.save()\n",
    "\n",
    "#read in the .xlsx file just created\n",
    "df_2 = pd.read_excel('test.xlsx')\n",
    "\n",
    "#creating a pdf in called test.pdf in the current directory\n",
    "pdf = FPDF()\n",
    "pdf.add_page()\n",
    "pdf.set_xy(0, 0)\n",
    "pdf.set_font('arial', 'B', 14)\n",
    "pdf.cell(60)\n",
    "pdf.cell(70, 10, 'Writing a PDF from python', 0, 2, 'C')\n",
    "pdf.cell(-40)\n",
    "pdf.cell(50, 10, 'Index Column', 1, 0, 'C')\n",
    "pdf.cell(40, 10, 'Col A', 1, 0, 'C')\n",
    "pdf.cell(40, 10, 'Col B', 1, 2, 'C')\n",
    "pdf.cell(-90)\n",
    "pdf.set_font('arial', '', 12)\n",
    "for i in range(0, len(df_2)-1):\n",
    "    col_ind = str(i)\n",
    "    col_a = str(df_2.A.ix[i])\n",
    "    col_b = str(df_2.B.ix[i])\n",
    "    pdf.cell(50, 10, '%s' % (col_ind), 1, 0, 'C')\n",
    "    pdf.cell(40, 10, '%s' % (col_a), 0, 0, 'C')\n",
    "    pdf.cell(40, 10, '%s' % (col_b), 0, 2, 'C')\n",
    "    pdf.cell(-90)\n",
    "pdf.output('test.pdf', 'F')\n"
   ]
  },
  {
   "cell_type": "code",
   "execution_count": 26,
   "metadata": {},
   "outputs": [
    {
     "ename": "COMError",
     "evalue": "(-2147018887, '指定的文件是只读文件。', (None, None, None, 0, None))",
     "traceback": [
      "\u001b[0;31m---------------------------------------------------------------------------\u001b[0m",
      "\u001b[0;31mCOMError\u001b[0m                                  Traceback (most recent call last)",
      "\u001b[0;32m<ipython-input-26-34415aa1bfc6>\u001b[0m in \u001b[0;36m<module>\u001b[0;34m()\u001b[0m\n\u001b[1;32m     15\u001b[0m \u001b[0;34m\u001b[0m\u001b[0m\n\u001b[1;32m     16\u001b[0m \u001b[0mdoc\u001b[0m \u001b[0;34m=\u001b[0m \u001b[0mapp\u001b[0m\u001b[0;34m.\u001b[0m\u001b[0mWorkbooks\u001b[0m\u001b[0;34m.\u001b[0m\u001b[0mOpen\u001b[0m\u001b[0;34m(\u001b[0m\u001b[0minfile\u001b[0m\u001b[0;34m)\u001b[0m\u001b[0;34m\u001b[0m\u001b[0m\n\u001b[0;32m---> 17\u001b[0;31m \u001b[0mdoc\u001b[0m\u001b[0;34m.\u001b[0m\u001b[0mExportAsFixedFormat\u001b[0m\u001b[0;34m(\u001b[0m\u001b[0;36m0\u001b[0m\u001b[0;34m,\u001b[0m \u001b[0moutfile\u001b[0m\u001b[0;34m,\u001b[0m \u001b[0;36m1\u001b[0m\u001b[0;34m,\u001b[0m \u001b[0;36m0\u001b[0m\u001b[0;34m)\u001b[0m\u001b[0;34m\u001b[0m\u001b[0m\n\u001b[0m\u001b[1;32m     18\u001b[0m \u001b[0mdoc\u001b[0m\u001b[0;34m.\u001b[0m\u001b[0mClose\u001b[0m\u001b[0;34m(\u001b[0m\u001b[0;34m)\u001b[0m\u001b[0;34m\u001b[0m\u001b[0m\n\u001b[1;32m     19\u001b[0m \u001b[0;34m\u001b[0m\u001b[0m\n",
      "\u001b[0;31mCOMError\u001b[0m: (-2147018887, '指定的文件是只读文件。', (None, None, None, 0, None))"
     ],
     "output_type": "error"
    }
   ],
   "source": [
    "import os\n",
    "import comtypes.client\n",
    "\n",
    "SOURCE_DIR = 'C:/Users/IEUser/Documents/jscript/test/resources/root3'\n",
    "TARGET_DIR = 'C:/Users/IEUser/Documents/jscript'\n",
    "\n",
    "app = comtypes.client.CreateObject('Excel.Application')\n",
    "app.Visible = False\n",
    "\n",
    "infile = os.path.join(os.path.abspath(SOURCE_DIR), 'spreadsheet1.xlsx')\n",
    "outfile = os.path.join(os.path.abspath(TARGET_DIR), 'spreadsheet1.pdf')\n",
    "\n",
    "infile = 'C:/Users/niejn/PycharmProjects/scrapy_demo/期货统计排名.xlsx'\n",
    "outfile = 'C:/Users/niejn/PycharmProjects/scrapy_demo/test.pdf'\n",
    "\n",
    "doc = app.Workbooks.Open(infile)\n",
    "doc.ExportAsFixedFormat(0, outfile, 1, 0)\n",
    "doc.Close()\n",
    "\n",
    "app.Quit()"
   ]
  },
  {
   "cell_type": "code",
   "execution_count": null,
   "metadata": {},
   "outputs": [],
   "source": []
  }
 ],
 "metadata": {
  "kernelspec": {
   "display_name": "Python 2",
   "language": "python",
   "name": "python2"
  },
  "language_info": {
   "codemirror_mode": {
    "name": "ipython",
    "version": 2
   },
   "file_extension": ".py",
   "mimetype": "text/x-python",
   "name": "python",
   "nbconvert_exporter": "python",
   "pygments_lexer": "ipython2",
   "version": "2.7.6"
  }
 },
 "nbformat": 4,
 "nbformat_minor": 0
}
