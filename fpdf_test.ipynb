{
 "cells": [
  {
   "cell_type": "code",
   "execution_count": 9,
   "metadata": {
    "collapsed": true
   },
   "outputs": [
    {
     "data": {
      "text/plain": [
       "''"
      ]
     },
     "execution_count": 9,
     "metadata": {},
     "output_type": "execute_result"
    }
   ],
   "source": [
    "from fpdf import FPDF\n",
    "\n",
    "class PDF(FPDF):\n",
    "    def header(self):\n",
    "        # Logo\n",
    "        # pdf.image(image, x=50, y=100, w=sizew, h=sizeh)\n",
    "        self.image('sales.png', 10, 8, 33)\n",
    "        # self.image('sales.png', x=50, y=100, w=200, h=200)\n",
    "        self.image('sales.png', x=0, y=100, w=80, h=60)\n",
    "        # Arial bold 15\n",
    "        self.set_font('Arial', 'B', 15)\n",
    "        # Move to the right\n",
    "        self.cell(80)\n",
    "        # Title\n",
    "        self.cell(30, 10, 'Title', 1, 0, 'C')\n",
    "        # Line break\n",
    "        self.ln(20)\n",
    "\n",
    "    # Page footer\n",
    "    def footer(self):\n",
    "        # Position at 1.5 cm from bottom\n",
    "        self.set_y(-15)\n",
    "        # Arial italic 8\n",
    "        self.set_font('Arial', 'I', 8)\n",
    "        # Page number\n",
    "        self.cell(0, 10, 'Page ' + str(self.page_no()) + '/{nb}', 0, 0, 'C')\n",
    "\n",
    "# Instantiation of inherited class\n",
    "pdf = PDF()\n",
    "pdf.alias_nb_pages()\n",
    "pdf.add_page()\n",
    "pdf.set_font('Times', '', 12)\n",
    "for i in range(1, 2):\n",
    "    pdf.cell(0, 10, 'Printing line number ' + str(i), 0, 1)\n",
    "pdf.output('tuto2.pdf', 'F')"
   ]
  },
  {
   "cell_type": "code",
   "execution_count": 10,
   "metadata": {},
   "outputs": [
    {
     "data": {
      "text/plain": [
       "''"
      ]
     },
     "execution_count": 10,
     "metadata": {},
     "output_type": "execute_result"
    }
   ],
   "source": [
    "\n",
    "from fpdf import FPDF\n",
    "\n",
    "pdf = FPDF()\n",
    "pdf.add_page()\n",
    "pdf.set_font('Arial', 'B', 16)\n",
    "pdf.cell(40, 10, 'Hello World!')\n",
    "\n",
    "# Set font\n",
    "# pdf.set_font('Arial', 'B', 16)\n",
    "# Move to 8 cm to the right\n",
    "'''w:\n",
    "\n",
    "Cell width. If 0, the cell extends up to the right margin.\n",
    "\n",
    "h:\n",
    "\n",
    "Cell height. Default value: 0.\n",
    "\n",
    "txt:\n",
    "\n",
    "String to print. Default value: empty string.\n",
    "\n",
    "border:\n",
    "\n",
    "Indicates if borders must be drawn around the cell. The value can be either a number:\n",
    "\n",
    "0: no border\n",
    "1: frame\n",
    "or a string containing some or all of the following characters (in any order):\n",
    "\n",
    "L: left\n",
    "T: top\n",
    "R: right\n",
    "B: bottom\n",
    "Default value: 0.\n",
    "\n",
    "ln:\n",
    "\n",
    "Indicates where the current position should go after the call. Possible values are:\n",
    "\n",
    "0: to the right\n",
    "1: to the beginning of the next line\n",
    "2: below\n",
    "Putting 1 is equivalent to putting 0 and calling ln just after. Default value: 0.\n",
    "\n",
    "align:\n",
    "\n",
    "Allows to center or align the text. Possible values are:\n",
    "\n",
    "L or empty string: left align (default value)\n",
    "C: center\n",
    "R: right align\n",
    "fill:\n",
    "\n",
    "Indicates if the cell background must be painted (True) or transparent (False). Default value: False.\n",
    "\n",
    "link:\n",
    "\n",
    "URL or identifier returned by add_link.'''\n",
    "pdf.cell(80)\n",
    "# Centered text in a framed 20*10 mm cell and line break\n",
    "# fpdf.cell(w, h = 0, txt = '', border = 0, ln = 0, \n",
    "#           align = '', fill = False, link = '')\n",
    "pdf.cell(20, 10, 'Title', 1, 1, 'C')\n",
    "pdf.output('tuto1.pdf', 'F')"
   ]
  },
  {
   "cell_type": "code",
   "execution_count": 14,
   "metadata": {},
   "outputs": [
    {
     "data": {
      "text/plain": [
       "''"
      ]
     },
     "execution_count": 14,
     "metadata": {},
     "output_type": "execute_result"
    }
   ],
   "source": [
    "\n",
    "from fpdf import FPDF\n",
    "\n",
    "pdf = FPDF('L', 'mm', 'A4')\n",
    "pdf.add_page()\n",
    "pdf.set_font('Arial', 'B', 16)\n",
    "pdf.cell(40, 10, 'Hello World!')\n",
    "pdf.cell(80)\n",
    "# Centered text in a framed 20*10 mm cell and line break\n",
    "# fpdf.cell(w, h = 0, txt = '', border = 0, ln = 0, \n",
    "#           align = '', fill = False, link = '')\n",
    "pdf.cell(20, 10, 'Title', 0, 0, 'L')\n",
    "pdf.output('tuto1.pdf', 'F')"
   ]
  },
  {
   "cell_type": "code",
   "execution_count": 13,
   "metadata": {},
   "outputs": [
    {
     "data": {
      "text/plain": [
       "''"
      ]
     },
     "execution_count": 13,
     "metadata": {},
     "output_type": "execute_result"
    }
   ],
   "source": [
    "from fpdf import FPDF\n",
    "\n",
    "pdf = FPDF('P', 'mm', 'A4')\n",
    "pdf.add_page()\n",
    "pdf.set_font('Arial', 'B', 16)\n",
    "pdf.cell(40, 10, 'Hello World!')\n",
    "pdf.cell(80)\n",
    "# Centered text in a framed 20*10 mm cell and line break\n",
    "# fpdf.cell(w, h = 0, txt = '', border = 0, ln = 0, \n",
    "#           align = '', fill = False, link = '')\n",
    "pdf.cell(20, 10, 'Title', 1, 1, 'C')\n",
    "pdf.output('tuto13.pdf', 'F')\n",
    "# matplotlib.pyplot.figure(dpi=200)"
   ]
  },
  {
   "cell_type": "code",
   "execution_count": null,
   "metadata": {},
   "outputs": [],
   "source": []
  }
 ],
 "metadata": {
  "kernelspec": {
   "display_name": "Python 2",
   "language": "python",
   "name": "python2"
  },
  "language_info": {
   "codemirror_mode": {
    "name": "ipython",
    "version": 2
   },
   "file_extension": ".py",
   "mimetype": "text/x-python",
   "name": "python",
   "nbconvert_exporter": "python",
   "pygments_lexer": "ipython2",
   "version": "2.7.6"
  }
 },
 "nbformat": 4,
 "nbformat_minor": 0
}
